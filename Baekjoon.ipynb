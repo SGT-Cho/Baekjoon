{
 "cells": [
  {
   "cell_type": "code",
   "execution_count": null,
   "metadata": {},
   "outputs": [],
   "source": [
    "#10430\n",
    "A, B, C = map(int, input().split())\n",
    "print((A+B)%C)\n",
    "print(((A%C)+(B%C))%C)\n",
    "print((A*B)%C)\n",
    "print(((A%C)*(B%C))%C)\n",
    "       "
   ]
  },
  {
   "cell_type": "code",
   "execution_count": 1,
   "metadata": {},
   "outputs": [
    {
     "name": "stdout",
     "output_type": "stream",
     "text": [
      "2360\n",
      "3776\n",
      "1416\n",
      "181720\n"
     ]
    }
   ],
   "source": [
    "#2588\n",
    "A=int(input())\n",
    "B=str(input())\n",
    "a=int(A)\n",
    "x=a*int(B[2])\n",
    "y=a*int(B[1])\n",
    "z=a*int(B[0])\n",
    "r=x+10*y+100*z\n",
    "print(x)\n",
    "print(y)\n",
    "print(z)\n",
    "print(r)"
   ]
  },
  {
   "cell_type": "code",
   "execution_count": 4,
   "metadata": {},
   "outputs": [
    {
     "name": "stdout",
     "output_type": "stream",
     "text": [
      "3\n"
     ]
    }
   ],
   "source": [
    "#11382\n",
    "A,B,C=map(int,(input().split()))\n",
    "print(A+B+C)"
   ]
  },
  {
   "cell_type": "code",
   "execution_count": 5,
   "metadata": {},
   "outputs": [
    {
     "name": "stdout",
     "output_type": "stream",
     "text": [
      "\\    /\\\n",
      " )  ( ')\n",
      "(  /  )\n",
      " \\(__)|\n"
     ]
    }
   ],
   "source": [
    "#10171\n",
    "print(\"\\\\    /\\\\\")\n",
    "print(\" )  ( ')\")\n",
    "print(\"(  /  )\")\n",
    "print(\" \\\\(__)|\")\n"
   ]
  },
  {
   "cell_type": "code",
   "execution_count": 6,
   "metadata": {},
   "outputs": [
    {
     "name": "stdout",
     "output_type": "stream",
     "text": [
      "|\\_/|\n",
      "|q p|   /}\n",
      "( 0 )\"\"\"\\\n",
      "|\"^\"`    |\n",
      "||_/=\\\\__|\n"
     ]
    }
   ],
   "source": [
    "#10172\n",
    "print(\"|\\_/|\")\n",
    "print(\"|q p|   /}\")\n",
    "print(\"( 0 )\\\"\\\"\\\"\\\\\")\n",
    "print(\"|\\\"^\\\"`    |\")\n",
    "print(\"||_/=\\\\\\\\__|\")\n"
   ]
  },
  {
   "cell_type": "code",
   "execution_count": null,
   "metadata": {},
   "outputs": [],
   "source": [
    "#1330\n",
    "A,B=map(int, input().split())\n",
    "if(A>B):\n",
    "    print('>')\n",
    "elif(A<B):\n",
    "    print('<')\n",
    "else:\n",
    "    print('==')"
   ]
  },
  {
   "cell_type": "code",
   "execution_count": null,
   "metadata": {},
   "outputs": [],
   "source": [
    "#9498\n",
    "A=int(input())\n",
    "if(90<=A<=100):\n",
    "    print('A')\n",
    "elif(80<=A<=89):\n",
    "    print('B')\n",
    "elif(70<=A<=79):\n",
    "    print('C')\n",
    "elif(60<=A<=69):\n",
    "    print('D')\n",
    "else:\n",
    "    print('F')"
   ]
  },
  {
   "cell_type": "code",
   "execution_count": null,
   "metadata": {},
   "outputs": [],
   "source": [
    "#2753\n",
    "A=int(input())\n",
    "if ((A%4==0 and A%100!=0)or(A%400==0)):\n",
    "    print(1)\n",
    "else:\n",
    "    print(0)"
   ]
  },
  {
   "cell_type": "code",
   "execution_count": 8,
   "metadata": {},
   "outputs": [
    {
     "name": "stdout",
     "output_type": "stream",
     "text": [
      "4\n"
     ]
    }
   ],
   "source": [
    "#14681\n",
    "X=int(input())\n",
    "Y=int(input())\n",
    "if (X>0 and Y>0):\n",
    "    print(1)\n",
    "elif (X>0 and Y<0):\n",
    "    print(4)\n",
    "elif (X<0 and Y<0):\n",
    "    print(3)\n",
    "elif (X<0 and Y>0):\n",
    "    print(2)"
   ]
  },
  {
   "cell_type": "code",
   "execution_count": 10,
   "metadata": {},
   "outputs": [
    {
     "name": "stdout",
     "output_type": "stream",
     "text": [
      "22 45\n"
     ]
    }
   ],
   "source": [
    "#2884\n",
    "H, M =map(int, input().split())\n",
    "if M<45:\n",
    "    H-=1\n",
    "    M+=15\n",
    "elif M>=45:\n",
    "    M-=45\n",
    "if H<0:\n",
    "    H+=24\n",
    "print(H,M)"
   ]
  },
  {
   "cell_type": "code",
   "execution_count": 31,
   "metadata": {},
   "outputs": [
    {
     "name": "stdout",
     "output_type": "stream",
     "text": [
      "0 13\n"
     ]
    }
   ],
   "source": [
    "#2525\n",
    "H, M =map(int, input().split())\n",
    "T= int(input())\n",
    "while(T>60):\n",
    "    H+=1\n",
    "    T=T-60\n",
    "M=M+T\n",
    "if M>=60:\n",
    "    H+=1\n",
    "    M-=60\n",
    "while H>=24:\n",
    "    H-=24\n",
    "\n",
    "\n",
    "print(H,M)"
   ]
  },
  {
   "cell_type": "code",
   "execution_count": 1,
   "metadata": {},
   "outputs": [
    {
     "name": "stdout",
     "output_type": "stream",
     "text": [
      "1300\n"
     ]
    }
   ],
   "source": [
    "#2480\n",
    "A,B,C=map(int, input().split())\n",
    "if A==B and B==C:\n",
    "    r=10000+1000*A\n",
    "elif (A==B and B!=C):\n",
    "    r=1000+100*A\n",
    "elif (A!=B and A==C):\n",
    "    r=1000+100*A\n",
    "elif (A!=B and B==C):\n",
    "    r=1000+100*B\n",
    "elif (A!=B and A!=C and B!=C):\n",
    "    if A>B and A>C:\n",
    "        r=100*A\n",
    "    elif B>A and B>C:\n",
    "        r=100*B\n",
    "    else:\n",
    "        r=100*C\n",
    "print(r)"
   ]
  },
  {
   "cell_type": "code",
   "execution_count": 5,
   "metadata": {},
   "outputs": [
    {
     "name": "stdout",
     "output_type": "stream",
     "text": [
      "3 * 1 = 3\n",
      "3 * 2 = 6\n",
      "3 * 3 = 9\n",
      "3 * 4 = 12\n",
      "3 * 5 = 15\n",
      "3 * 6 = 18\n",
      "3 * 7 = 21\n",
      "3 * 8 = 24\n",
      "3 * 9 = 27\n"
     ]
    }
   ],
   "source": [
    "#2739\n",
    "N=int(input())\n",
    "for i in range(1,10):\n",
    "    k=N*i\n",
    "    print(\"{} * {} = {}\".format(N, i, k))"
   ]
  },
  {
   "cell_type": "code",
   "execution_count": null,
   "metadata": {},
   "outputs": [],
   "source": [
    "#10950\n",
    "T=int(input())\n",
    "for i in range(T):\n",
    "    A,B=map(int,(input().split()))\n",
    "    print(A+B)"
   ]
  },
  {
   "cell_type": "code",
   "execution_count": 7,
   "metadata": {},
   "outputs": [
    {
     "name": "stdout",
     "output_type": "stream",
     "text": [
      "6\n"
     ]
    }
   ],
   "source": [
    "#8393\n",
    "n=int(input())\n",
    "print(int(n*(n+1)/2))"
   ]
  },
  {
   "cell_type": "code",
   "execution_count": null,
   "metadata": {},
   "outputs": [],
   "source": [
    "#25304\n",
    "X=int(input())\n",
    "N=int(input())\n",
    "r=0\n",
    "for i in range(N):\n",
    "    a,b= map(int, input().split())\n",
    "    r+=a*b\n",
    "if X==r:\n",
    "    print(\"Yes\")\n",
    "else:\n",
    "    print(\"No\")"
   ]
  },
  {
   "cell_type": "code",
   "execution_count": 12,
   "metadata": {},
   "outputs": [
    {
     "name": "stdout",
     "output_type": "stream",
     "text": [
      "long long long int\n"
     ]
    }
   ],
   "source": [
    "#25314\n",
    "N=int(input())\n",
    "r=''\n",
    "for i in range(int(N/4)):\n",
    "    r+='long '\n",
    "r+='int'\n",
    "print(r)\n"
   ]
  },
  {
   "cell_type": "code",
   "execution_count": 3,
   "metadata": {},
   "outputs": [
    {
     "name": "stdout",
     "output_type": "stream",
     "text": [
      "Case #1:2\n",
      "Case #2:4\n"
     ]
    }
   ],
   "source": [
    "#11021\n",
    "T=int(input())\n",
    "\n",
    "for i in range(T):\n",
    "    A,B=map(int, input().split())\n",
    "    print(\"Case #{}:\" \" {}\".format(i+1,A+B))"
   ]
  },
  {
   "cell_type": "code",
   "execution_count": null,
   "metadata": {},
   "outputs": [],
   "source": [
    "#11022\n",
    "T=int(input())\n",
    "\n",
    "for i in range(T):\n",
    "    A,B=map(int, input().split())\n",
    "    print(\"Case #{}:\"\" {} + {} = {}\".format(i+1,A,B,A+B))"
   ]
  },
  {
   "cell_type": "code",
   "execution_count": 14,
   "metadata": {},
   "outputs": [
    {
     "name": "stdout",
     "output_type": "stream",
     "text": [
      "*\n",
      "**\n",
      "***\n",
      "****\n",
      "*****\n"
     ]
    }
   ],
   "source": [
    "#2438\n",
    "N=int(input())\n",
    "for i in range(1,N+1):\n",
    "    s=''\n",
    "    for j in range(i):\n",
    "        s+='*'\n",
    "    print(s)\n"
   ]
  },
  {
   "cell_type": "code",
   "execution_count": 29,
   "metadata": {},
   "outputs": [
    {
     "name": "stdout",
     "output_type": "stream",
     "text": [
      "    *\n",
      "   **\n",
      "  ***\n",
      " ****\n",
      "*****\n"
     ]
    }
   ],
   "source": [
    "#2439\n",
    "N=int(input())\n",
    "s=''\n",
    "for k in range(N):\n",
    "    s+=' '\n",
    "for i in range(N):\n",
    "    a=s[:]\n",
    "    a=a.replace(' ','*',i+1)\n",
    "    a=a[::-1]\n",
    "    print(a)\n"
   ]
  },
  {
   "cell_type": "code",
   "execution_count": 30,
   "metadata": {},
   "outputs": [
    {
     "name": "stdout",
     "output_type": "stream",
     "text": [
      "2\n",
      "5\n"
     ]
    }
   ],
   "source": [
    "#10952\n",
    "while True:\n",
    "    A,B= map(int, input().split())\n",
    "    if A==0 and B==0:\n",
    "        break\n",
    "    else:\n",
    "        print(A+B)"
   ]
  },
  {
   "cell_type": "code",
   "execution_count": null,
   "metadata": {},
   "outputs": [],
   "source": [
    "#10951\n",
    "while True:\n",
    "    try:\n",
    "        A,B= map(int, input().split())\n",
    "        print(A+B)\n",
    "    except:\n",
    "        break"
   ]
  },
  {
   "cell_type": "code",
   "execution_count": 32,
   "metadata": {},
   "outputs": [
    {
     "ename": "",
     "evalue": "",
     "output_type": "error",
     "traceback": [
      "\u001b[1;31mCannot execute code, session has been disposed. Please try restarting the Kernel."
     ]
    },
    {
     "ename": "",
     "evalue": "",
     "output_type": "error",
     "traceback": [
      "\u001b[1;31mCannot execute code, session has been disposed. Please try restarting the Kernel. \n",
      "\u001b[1;31mView Jupyter <a href='command:jupyter.viewOutput'>log</a> for further details."
     ]
    }
   ],
   "source": [
    "#15552\n",
    "import sys\n",
    "T=int(input())\n",
    "for i in range(T):\n",
    "    A,B=map(int, sys.stdin.readline().split())\n",
    "    print(A+B)"
   ]
  },
  {
   "cell_type": "code",
   "execution_count": 8,
   "metadata": {},
   "outputs": [
    {
     "name": "stdout",
     "output_type": "stream",
     "text": [
      "3\n"
     ]
    }
   ],
   "source": [
    "#10807\n",
    "N= int(input())\n",
    "S=''\n",
    "S=S+(input())\n",
    "t=S.split()\n",
    "v=int(input())\n",
    "cnt=0\n",
    "for i in range(N):\n",
    "    if v==int(t[i]):\n",
    "        cnt+=1\n",
    "print(cnt)\n"
   ]
  },
  {
   "cell_type": "code",
   "execution_count": 26,
   "metadata": {},
   "outputs": [
    {
     "name": "stdout",
     "output_type": "stream",
     "text": [
      "['1', '4', '2', '3']\n",
      "1 4 2 3\n"
     ]
    }
   ],
   "source": [
    "#10871\n",
    "N,X=map(int, input().split())\n",
    "A=input().split()\n",
    "res=''\n",
    "for i in range(N):\n",
    "    if int(A[i])>=X:\n",
    "        A[i]=99999999\n",
    "while 99999999 in A:\n",
    "    A.remove(99999999)\n",
    "res=' '.join(A)\n",
    "print(res)\n"
   ]
  },
  {
   "cell_type": "code",
   "execution_count": 28,
   "metadata": {},
   "outputs": [
    {
     "name": "stdout",
     "output_type": "stream",
     "text": [
      "7 35\n"
     ]
    }
   ],
   "source": [
    "#10818\n",
    "N=int(input())\n",
    "X=input().split()\n",
    "smallest=int(X[0])\n",
    "largest=int(X[0])\n",
    "for i in range(N):\n",
    "    if smallest>int(X[i]):\n",
    "        smallest=int(X[i])\n",
    "    if largest<int(X[i]):\n",
    "        largest=int(X[i])\n",
    "print(smallest,largest)\n"
   ]
  },
  {
   "cell_type": "code",
   "execution_count": 32,
   "metadata": {},
   "outputs": [
    {
     "name": "stdout",
     "output_type": "stream",
     "text": [
      "85\n",
      "8\n"
     ]
    }
   ],
   "source": [
    "#2562\n",
    "a=[]\n",
    "largest=0\n",
    "for i in range(9):\n",
    "    val=int(input())\n",
    "    a.append(val)\n",
    "    if largest<val:\n",
    "        largest=val\n",
    "        idx=i\n",
    "print(largest)\n",
    "print(a.index(largest)+1)\n"
   ]
  },
  {
   "cell_type": "code",
   "execution_count": 39,
   "metadata": {},
   "outputs": [
    {
     "name": "stdout",
     "output_type": "stream",
     "text": [
      "12110\n"
     ]
    }
   ],
   "source": [
    "#10810\n",
    "N,M=map(int, input().split())\n",
    "a=[]\n",
    "for x in range(N):\n",
    "    a.append(0)\n",
    "for z in range(M):\n",
    "    i,j,k =map(int, input().split())\n",
    "    for y in range(i-1,j):\n",
    "        a[y]=k\n",
    "a=list(map(str,a))\n",
    "res=\" \".join(a)\n",
    "print(res)\n"
   ]
  },
  {
   "cell_type": "code",
   "execution_count": 41,
   "metadata": {},
   "outputs": [
    {
     "name": "stdout",
     "output_type": "stream",
     "text": [
      "3 1 4 2 5\n"
     ]
    }
   ],
   "source": [
    "#10813\n",
    "N,M=map(int, input().split())\n",
    "a=[]\n",
    "for i in range(N):\n",
    "    a.append(i+1)\n",
    "for j in range(M):\n",
    "    x,y=map(int, input().split())\n",
    "    tmp=a[x-1]\n",
    "    a[x-1]=a[y-1]\n",
    "    a[y-1]=tmp\n",
    "a=list(map(str,a))\n",
    "res=\" \".join(a)\n",
    "print(res)"
   ]
  },
  {
   "cell_type": "code",
   "execution_count": 49,
   "metadata": {},
   "outputs": [
    {
     "name": "stdout",
     "output_type": "stream",
     "text": [
      "[2, 8]\n",
      "2\n",
      "8\n"
     ]
    }
   ],
   "source": [
    "#5597\n",
    "a=[]\n",
    "for i in range(1,31):\n",
    "    a.append(i)\n",
    "for j in range(28):\n",
    "    n=int(input())\n",
    "    a.remove(n)\n",
    "if a[0]>a[1]:\n",
    "    a[0],a[1]=a[1],a[0]\n",
    "print(a[0])\n",
    "print(a[1])\n"
   ]
  },
  {
   "cell_type": "code",
   "execution_count": 50,
   "metadata": {},
   "outputs": [
    {
     "name": "stdout",
     "output_type": "stream",
     "text": [
      "10\n"
     ]
    }
   ],
   "source": [
    "#3052\n",
    "a=[]\n",
    "for i in range(1,11):\n",
    "    n=int(input())\n",
    "    if n%42 not in a:\n",
    "        a.append(n%42)\n",
    "print(len(a))"
   ]
  },
  {
   "cell_type": "code",
   "execution_count": 58,
   "metadata": {},
   "outputs": [
    {
     "name": "stdout",
     "output_type": "stream",
     "text": [
      "3 4 1 2 5\n"
     ]
    }
   ],
   "source": [
    "#10811\n",
    "N,M=map(int, input().split())\n",
    "a=[]\n",
    "\n",
    "for x in range(N):\n",
    "    a.append(x+1)\n",
    "for y in range(M):\n",
    "    i,j=map(int, input().split())\n",
    "    b=[]\n",
    "    for z in range(i-1,j):\n",
    "        b.append(a[z]) \n",
    "    b=list(reversed(b))\n",
    "    for s in range(i-1,j):\n",
    "        a[s]=b[s-i+1]\n",
    "a=list(map(str,a))\n",
    "a=\" \".join(a)\n",
    "print(a)\n",
    "\n",
    "\n"
   ]
  },
  {
   "cell_type": "code",
   "execution_count": 66,
   "metadata": {},
   "outputs": [
    {
     "name": "stdout",
     "output_type": "stream",
     "text": [
      "75.0\n"
     ]
    }
   ],
   "source": [
    "#1546\n",
    "N=int(input())\n",
    "a=input().split()\n",
    "largest=0\n",
    "new=[]\n",
    "res=0\n",
    "for i in range(len(a)):\n",
    "    if largest<int(a[i]):\n",
    "        largest=int(a[i])\n",
    "for j in range(len(a)):\n",
    "    new.append(int(a[j])*100/largest)\n",
    "    res=sum(new)\n",
    "print(res/N)"
   ]
  },
  {
   "cell_type": "code",
   "execution_count": 70,
   "metadata": {},
   "outputs": [
    {
     "name": "stdout",
     "output_type": "stream",
     "text": [
      "o\n"
     ]
    }
   ],
   "source": [
    "#27866\n",
    "S=input()\n",
    "i=int(input())\n",
    "print(S[i-1])"
   ]
  },
  {
   "cell_type": "code",
   "execution_count": 71,
   "metadata": {},
   "outputs": [
    {
     "name": "stdout",
     "output_type": "stream",
     "text": [
      "8\n"
     ]
    }
   ],
   "source": [
    "#2743\n",
    "print(len(input()))"
   ]
  },
  {
   "cell_type": "code",
   "execution_count": 72,
   "metadata": {},
   "outputs": [
    {
     "name": "stdout",
     "output_type": "stream",
     "text": [
      "AB\n",
      "OO\n",
      "AS\n"
     ]
    }
   ],
   "source": [
    "#9086\n",
    "T=int(input())\n",
    "for i in range(T):\n",
    "    S=input()\n",
    "    print('{}{}'.format(S[0],S[-1]))"
   ]
  },
  {
   "cell_type": "code",
   "execution_count": 74,
   "metadata": {},
   "outputs": [
    {
     "name": "stdout",
     "output_type": "stream",
     "text": [
      "48\n"
     ]
    }
   ],
   "source": [
    "#11654\n",
    "print(ord(input()))"
   ]
  },
  {
   "cell_type": "code",
   "execution_count": 79,
   "metadata": {},
   "outputs": [
    {
     "name": "stdout",
     "output_type": "stream",
     "text": [
      "15\n"
     ]
    }
   ],
   "source": [
    "#11720\n",
    "N=int(input())\n",
    "a=input()\n",
    "s=0\n",
    "for i in range(N):\n",
    "    s+=int(a[i])\n",
    "print(s)"
   ]
  },
  {
   "cell_type": "code",
   "execution_count": 88,
   "metadata": {},
   "outputs": [
    {
     "name": "stdout",
     "output_type": "stream",
     "text": [
      "1 0 -1 -1 2 -1 -1 -1 -1 4 3 -1 -1 7 5 -1 -1 -1 -1 -1 -1 -1 -1 -1 -1 -1\n"
     ]
    }
   ],
   "source": [
    "#10809\n",
    "a=[-1]*200\n",
    "s=input()\n",
    "items=[]\n",
    "for i in range(len(s)):\n",
    "    if s[i] not in items:\n",
    "        items.append(s[i])\n",
    "        a[ord(s[i])]=i\n",
    "print(\" \".join(map(str,a[97:123])))\n",
    "        "
   ]
  },
  {
   "cell_type": "code",
   "execution_count": 89,
   "metadata": {},
   "outputs": [
    {
     "name": "stdout",
     "output_type": "stream",
     "text": [
      "AAABBBCCC\n",
      "/////HHHHHTTTTTPPPPP\n"
     ]
    }
   ],
   "source": [
    "#2675\n",
    "T=int(input())\n",
    "for i in range(T):\n",
    "    res=''\n",
    "    R,S=map(str, input().split())\n",
    "    for j in range(len(S)):\n",
    "        for k in range(int(R)):\n",
    "            res=res+S[j]\n",
    "    print(res)"
   ]
  },
  {
   "cell_type": "code",
   "execution_count": null,
   "metadata": {},
   "outputs": [],
   "source": []
  }
 ],
 "metadata": {
  "kernelspec": {
   "display_name": "base",
   "language": "python",
   "name": "python3"
  },
  "language_info": {
   "codemirror_mode": {
    "name": "ipython",
    "version": 3
   },
   "file_extension": ".py",
   "mimetype": "text/x-python",
   "name": "python",
   "nbconvert_exporter": "python",
   "pygments_lexer": "ipython3",
   "version": "3.11.7"
  }
 },
 "nbformat": 4,
 "nbformat_minor": 2
}
