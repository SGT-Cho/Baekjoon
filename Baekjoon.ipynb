{
 "cells": [
  {
   "cell_type": "code",
   "execution_count": null,
   "metadata": {},
   "outputs": [],
   "source": [
    "#10430\n",
    "A, B, C = map(int, input().split())\n",
    "print((A+B)%C)\n",
    "print(((A%C)+(B%C))%C)\n",
    "print((A*B)%C)\n",
    "print(((A%C)*(B%C))%C)\n",
    "       "
   ]
  },
  {
   "cell_type": "code",
   "execution_count": 1,
   "metadata": {},
   "outputs": [
    {
     "name": "stdout",
     "output_type": "stream",
     "text": [
      "2360\n",
      "3776\n",
      "1416\n",
      "181720\n"
     ]
    }
   ],
   "source": [
    "#2588\n",
    "A=int(input())\n",
    "B=str(input())\n",
    "a=int(A)\n",
    "x=a*int(B[2])\n",
    "y=a*int(B[1])\n",
    "z=a*int(B[0])\n",
    "r=x+10*y+100*z\n",
    "print(x)\n",
    "print(y)\n",
    "print(z)\n",
    "print(r)"
   ]
  },
  {
   "cell_type": "code",
   "execution_count": 4,
   "metadata": {},
   "outputs": [
    {
     "name": "stdout",
     "output_type": "stream",
     "text": [
      "3\n"
     ]
    }
   ],
   "source": [
    "#11382\n",
    "A,B,C=map(int,(input().split()))\n",
    "print(A+B+C)"
   ]
  },
  {
   "cell_type": "code",
   "execution_count": 5,
   "metadata": {},
   "outputs": [
    {
     "name": "stdout",
     "output_type": "stream",
     "text": [
      "\\    /\\\n",
      " )  ( ')\n",
      "(  /  )\n",
      " \\(__)|\n"
     ]
    }
   ],
   "source": [
    "#10171\n",
    "print(\"\\\\    /\\\\\")\n",
    "print(\" )  ( ')\")\n",
    "print(\"(  /  )\")\n",
    "print(\" \\\\(__)|\")\n"
   ]
  },
  {
   "cell_type": "code",
   "execution_count": 6,
   "metadata": {},
   "outputs": [
    {
     "name": "stdout",
     "output_type": "stream",
     "text": [
      "|\\_/|\n",
      "|q p|   /}\n",
      "( 0 )\"\"\"\\\n",
      "|\"^\"`    |\n",
      "||_/=\\\\__|\n"
     ]
    }
   ],
   "source": [
    "#10172\n",
    "print(\"|\\_/|\")\n",
    "print(\"|q p|   /}\")\n",
    "print(\"( 0 )\\\"\\\"\\\"\\\\\")\n",
    "print(\"|\\\"^\\\"`    |\")\n",
    "print(\"||_/=\\\\\\\\__|\")\n"
   ]
  },
  {
   "cell_type": "code",
   "execution_count": null,
   "metadata": {},
   "outputs": [],
   "source": [
    "#1330\n",
    "A,B=map(int, input().split())\n",
    "if(A>B):\n",
    "    print('>')\n",
    "elif(A<B):\n",
    "    print('<')\n",
    "else:\n",
    "    print('==')"
   ]
  },
  {
   "cell_type": "code",
   "execution_count": null,
   "metadata": {},
   "outputs": [],
   "source": [
    "#9498\n",
    "A=int(input())\n",
    "if(90<=A<=100):\n",
    "    print('A')\n",
    "elif(80<=A<=89):\n",
    "    print('B')\n",
    "elif(70<=A<=79):\n",
    "    print('C')\n",
    "elif(60<=A<=69):\n",
    "    print('D')\n",
    "else:\n",
    "    print('F')"
   ]
  },
  {
   "cell_type": "code",
   "execution_count": null,
   "metadata": {},
   "outputs": [],
   "source": [
    "#2753\n",
    "A=int(input())\n",
    "if ((A%4==0 and A%100!=0)or(A%400==0)):\n",
    "    print(1)\n",
    "else:\n",
    "    print(0)"
   ]
  },
  {
   "cell_type": "code",
   "execution_count": 8,
   "metadata": {},
   "outputs": [
    {
     "name": "stdout",
     "output_type": "stream",
     "text": [
      "4\n"
     ]
    }
   ],
   "source": [
    "#14681\n",
    "X=int(input())\n",
    "Y=int(input())\n",
    "if (X>0 and Y>0):\n",
    "    print(1)\n",
    "elif (X>0 and Y<0):\n",
    "    print(4)\n",
    "elif (X<0 and Y<0):\n",
    "    print(3)\n",
    "elif (X<0 and Y>0):\n",
    "    print(2)"
   ]
  },
  {
   "cell_type": "code",
   "execution_count": 10,
   "metadata": {},
   "outputs": [
    {
     "name": "stdout",
     "output_type": "stream",
     "text": [
      "22 45\n"
     ]
    }
   ],
   "source": [
    "#2884\n",
    "H, M =map(int, input().split())\n",
    "if M<45:\n",
    "    H-=1\n",
    "    M+=15\n",
    "elif M>=45:\n",
    "    M-=45\n",
    "if H<0:\n",
    "    H+=24\n",
    "print(H,M)"
   ]
  },
  {
   "cell_type": "code",
   "execution_count": 31,
   "metadata": {},
   "outputs": [
    {
     "name": "stdout",
     "output_type": "stream",
     "text": [
      "0 13\n"
     ]
    }
   ],
   "source": [
    "#2525\n",
    "H, M =map(int, input().split())\n",
    "T= int(input())\n",
    "while(T>60):\n",
    "    H+=1\n",
    "    T=T-60\n",
    "M=M+T\n",
    "if M>=60:\n",
    "    H+=1\n",
    "    M-=60\n",
    "while H>=24:\n",
    "    H-=24\n",
    "\n",
    "\n",
    "print(H,M)"
   ]
  },
  {
   "cell_type": "code",
   "execution_count": 1,
   "metadata": {},
   "outputs": [
    {
     "name": "stdout",
     "output_type": "stream",
     "text": [
      "1300\n"
     ]
    }
   ],
   "source": [
    "#2480\n",
    "A,B,C=map(int, input().split())\n",
    "if A==B and B==C:\n",
    "    r=10000+1000*A\n",
    "elif (A==B and B!=C):\n",
    "    r=1000+100*A\n",
    "elif (A!=B and A==C):\n",
    "    r=1000+100*A\n",
    "elif (A!=B and B==C):\n",
    "    r=1000+100*B\n",
    "elif (A!=B and A!=C and B!=C):\n",
    "    if A>B and A>C:\n",
    "        r=100*A\n",
    "    elif B>A and B>C:\n",
    "        r=100*B\n",
    "    else:\n",
    "        r=100*C\n",
    "print(r)"
   ]
  },
  {
   "cell_type": "code",
   "execution_count": 5,
   "metadata": {},
   "outputs": [
    {
     "name": "stdout",
     "output_type": "stream",
     "text": [
      "3 * 1 = 3\n",
      "3 * 2 = 6\n",
      "3 * 3 = 9\n",
      "3 * 4 = 12\n",
      "3 * 5 = 15\n",
      "3 * 6 = 18\n",
      "3 * 7 = 21\n",
      "3 * 8 = 24\n",
      "3 * 9 = 27\n"
     ]
    }
   ],
   "source": [
    "#2739\n",
    "N=int(input())\n",
    "for i in range(1,10):\n",
    "    k=N*i\n",
    "    print(\"{} * {} = {}\".format(N, i, k))"
   ]
  },
  {
   "cell_type": "code",
   "execution_count": null,
   "metadata": {},
   "outputs": [],
   "source": [
    "#10950\n",
    "T=int(input())\n",
    "for i in range(T):\n",
    "    A,B=map(int,(input().split()))\n",
    "    print(A+B)"
   ]
  },
  {
   "cell_type": "code",
   "execution_count": 7,
   "metadata": {},
   "outputs": [
    {
     "name": "stdout",
     "output_type": "stream",
     "text": [
      "6\n"
     ]
    }
   ],
   "source": [
    "#8393\n",
    "n=int(input())\n",
    "print(int(n*(n+1)/2))"
   ]
  },
  {
   "cell_type": "code",
   "execution_count": null,
   "metadata": {},
   "outputs": [],
   "source": [
    "#25304\n",
    "X=int(input())\n",
    "N=int(input())\n",
    "r=0\n",
    "for i in range(N):\n",
    "    a,b= map(int, input().split())\n",
    "    r+=a*b\n",
    "if X==r:\n",
    "    print(\"Yes\")\n",
    "else:\n",
    "    print(\"No\")"
   ]
  },
  {
   "cell_type": "code",
   "execution_count": 12,
   "metadata": {},
   "outputs": [
    {
     "name": "stdout",
     "output_type": "stream",
     "text": [
      "long long long int\n"
     ]
    }
   ],
   "source": [
    "#25314\n",
    "N=int(input())\n",
    "r=''\n",
    "for i in range(int(N/4)):\n",
    "    r+='long '\n",
    "r+='int'\n",
    "print(r)\n"
   ]
  },
  {
   "cell_type": "code",
   "execution_count": 3,
   "metadata": {},
   "outputs": [
    {
     "name": "stdout",
     "output_type": "stream",
     "text": [
      "Case #1:2\n",
      "Case #2:4\n"
     ]
    }
   ],
   "source": [
    "#11021\n",
    "T=int(input())\n",
    "\n",
    "for i in range(T):\n",
    "    A,B=map(int, input().split())\n",
    "    print(\"Case #{}:\" \" {}\".format(i+1,A+B))"
   ]
  },
  {
   "cell_type": "code",
   "execution_count": null,
   "metadata": {},
   "outputs": [],
   "source": [
    "#11022\n",
    "T=int(input())\n",
    "\n",
    "for i in range(T):\n",
    "    A,B=map(int, input().split())\n",
    "    print(\"Case #{}:\"\" {} + {} = {}\".format(i+1,A,B,A+B))"
   ]
  },
  {
   "cell_type": "code",
   "execution_count": 14,
   "metadata": {},
   "outputs": [
    {
     "name": "stdout",
     "output_type": "stream",
     "text": [
      "*\n",
      "**\n",
      "***\n",
      "****\n",
      "*****\n"
     ]
    }
   ],
   "source": [
    "#2438\n",
    "N=int(input())\n",
    "for i in range(1,N+1):\n",
    "    s=''\n",
    "    for j in range(i):\n",
    "        s+='*'\n",
    "    print(s)\n"
   ]
  },
  {
   "cell_type": "code",
   "execution_count": 29,
   "metadata": {},
   "outputs": [
    {
     "name": "stdout",
     "output_type": "stream",
     "text": [
      "    *\n",
      "   **\n",
      "  ***\n",
      " ****\n",
      "*****\n"
     ]
    }
   ],
   "source": [
    "#2439\n",
    "N=int(input())\n",
    "s=''\n",
    "for k in range(N):\n",
    "    s+=' '\n",
    "for i in range(N):\n",
    "    a=s[:]\n",
    "    a=a.replace(' ','*',i+1)\n",
    "    a=a[::-1]\n",
    "    print(a)\n"
   ]
  },
  {
   "cell_type": "code",
   "execution_count": 30,
   "metadata": {},
   "outputs": [
    {
     "name": "stdout",
     "output_type": "stream",
     "text": [
      "2\n",
      "5\n"
     ]
    }
   ],
   "source": [
    "#10952\n",
    "while True:\n",
    "    A,B= map(int, input().split())\n",
    "    if A==0 and B==0:\n",
    "        break\n",
    "    else:\n",
    "        print(A+B)"
   ]
  },
  {
   "cell_type": "code",
   "execution_count": null,
   "metadata": {},
   "outputs": [],
   "source": [
    "#10951\n",
    "while True:\n",
    "    try:\n",
    "        A,B= map(int, input().split())\n",
    "        print(A+B)\n",
    "    except:\n",
    "        break"
   ]
  },
  {
   "cell_type": "code",
   "execution_count": 32,
   "metadata": {},
   "outputs": [
    {
     "ename": "",
     "evalue": "",
     "output_type": "error",
     "traceback": [
      "\u001b[1;31mCannot execute code, session has been disposed. Please try restarting the Kernel."
     ]
    },
    {
     "ename": "",
     "evalue": "",
     "output_type": "error",
     "traceback": [
      "\u001b[1;31mCannot execute code, session has been disposed. Please try restarting the Kernel. \n",
      "\u001b[1;31mView Jupyter <a href='command:jupyter.viewOutput'>log</a> for further details."
     ]
    }
   ],
   "source": [
    "#15552\n",
    "import sys\n",
    "T=int(input())\n",
    "for i in range(T):\n",
    "    A,B=map(int, sys.stdin.readline().split())\n",
    "    print(A+B)"
   ]
  },
  {
   "cell_type": "code",
   "execution_count": 6,
   "metadata": {},
   "outputs": [
    {
     "name": "stdout",
     "output_type": "stream",
     "text": [
      "[['1', '1', '2', '3', '4']]\n"
     ]
    }
   ],
   "source": [
    "#10870\n",
    "N= int(input())\n",
    "S=[]\n",
    "S.append(input().split())\n",
    "#v=int(input())\n",
    "print(S)"
   ]
  },
  {
   "cell_type": "code",
   "execution_count": null,
   "metadata": {},
   "outputs": [],
   "source": []
  }
 ],
 "metadata": {
  "kernelspec": {
   "display_name": "base",
   "language": "python",
   "name": "python3"
  },
  "language_info": {
   "codemirror_mode": {
    "name": "ipython",
    "version": 3
   },
   "file_extension": ".py",
   "mimetype": "text/x-python",
   "name": "python",
   "nbconvert_exporter": "python",
   "pygments_lexer": "ipython3",
   "version": "3.11.7"
  }
 },
 "nbformat": 4,
 "nbformat_minor": 2
}
